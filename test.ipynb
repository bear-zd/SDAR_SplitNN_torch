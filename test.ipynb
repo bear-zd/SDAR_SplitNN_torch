{
 "cells": [
  {
   "cell_type": "code",
   "execution_count": 2,
   "metadata": {},
   "outputs": [
    {
     "name": "stdout",
     "output_type": "stream",
     "text": [
      "Files already downloaded and verified\n",
      "Files already downloaded and verified\n",
      "(30000, 32, 32, 3) (30000, 1)\n",
      "(30000, 32, 32, 3) (30000, 1)\n",
      "torch.Size([128, 3, 32, 32]) torch.Size([128, 1])\n",
      "Files already downloaded and verified\n",
      "Files already downloaded and verified\n",
      "(30000, 32, 32, 3) (30000, 1)\n",
      "(30000, 32, 32, 3) (30000, 1)\n",
      "torch.Size([128, 3, 32, 32]) torch.Size([128, 1])\n",
      "Files already downloaded and verified\n",
      "Files already downloaded and verified\n",
      "(6500, 96, 96, 3) (6500, 1)\n",
      "(6500, 96, 96, 3) (6500, 1)\n",
      "torch.Size([32, 3, 32, 32]) torch.Size([32, 1])\n",
      "(55000, 64, 64, 3) (55000, 1)\n",
      "(55000, 64, 64, 3) (55000, 1)\n",
      "torch.Size([128, 3, 32, 32]) torch.Size([128, 1])\n"
     ]
    }
   ],
   "source": [
    "from data import *\n",
    "dc = LoadDataset(\"cifar10\")\n",
    "tl, tsl = dc.get_dataset()\n",
    "print(list(tl)[0][0].shape, list(tl)[0][1].shape)\n",
    "dc = LoadDataset(\"cifar100\")\n",
    "tl, tsl = dc.get_dataset()\n",
    "print(list(tl)[0][0].shape, list(tl)[0][1].shape)\n",
    "dc = LoadDataset(\"stl10\")\n",
    "tl, tsl = dc.get_dataset()\n",
    "print(list(tl)[0][0].shape, list(tl)[0][1].shape)\n",
    "dc = LoadDataset(\"tinyimagenet\")\n",
    "tl, tsl = dc.get_dataset()\n",
    "print(list(tl)[0][0].shape, list(tl)[0][1].shape)"
   ]
  },
  {
   "cell_type": "code",
   "execution_count": 3,
   "metadata": {},
   "outputs": [],
   "source": [
    "train, test = tinyimagenet(\"./data\")"
   ]
  },
  {
   "cell_type": "code",
   "execution_count": 4,
   "metadata": {},
   "outputs": [
    {
     "data": {
      "text/plain": [
       "(100000, 64, 64, 3)"
      ]
     },
     "execution_count": 4,
     "metadata": {},
     "output_type": "execute_result"
    }
   ],
   "source": [
    "train[0].shape"
   ]
  },
  {
   "cell_type": "code",
   "execution_count": 5,
   "metadata": {},
   "outputs": [
    {
     "data": {
      "text/plain": [
       "(100000, 1)"
      ]
     },
     "execution_count": 5,
     "metadata": {},
     "output_type": "execute_result"
    }
   ],
   "source": [
    "train[1].shape"
   ]
  },
  {
   "cell_type": "code",
   "execution_count": 6,
   "metadata": {},
   "outputs": [
    {
     "data": {
      "text/plain": [
       "(10000, 64, 64, 3)"
      ]
     },
     "execution_count": 6,
     "metadata": {},
     "output_type": "execute_result"
    }
   ],
   "source": [
    "test[0].shape"
   ]
  },
  {
   "cell_type": "code",
   "execution_count": 7,
   "metadata": {},
   "outputs": [
    {
     "data": {
      "text/plain": [
       "(10000, 1)"
      ]
     },
     "execution_count": 7,
     "metadata": {},
     "output_type": "execute_result"
    }
   ],
   "source": [
    "test[1].shape"
   ]
  },
  {
   "cell_type": "code",
   "execution_count": 9,
   "metadata": {},
   "outputs": [
    {
     "data": {
      "text/plain": [
       "(110000, 64, 64, 3)"
      ]
     },
     "execution_count": 9,
     "metadata": {},
     "output_type": "execute_result"
    }
   ],
   "source": [
    "np.concatenate([test[0], train[0]]).shape"
   ]
  },
  {
   "cell_type": "code",
   "execution_count": null,
   "metadata": {},
   "outputs": [],
   "source": []
  }
 ],
 "metadata": {
  "kernelspec": {
   "display_name": "sf",
   "language": "python",
   "name": "python3"
  },
  "language_info": {
   "codemirror_mode": {
    "name": "ipython",
    "version": 3
   },
   "file_extension": ".py",
   "mimetype": "text/x-python",
   "name": "python",
   "nbconvert_exporter": "python",
   "pygments_lexer": "ipython3",
   "version": "3.10.15"
  }
 },
 "nbformat": 4,
 "nbformat_minor": 2
}
