{
 "cells": [
  {
   "cell_type": "code",
   "execution_count": 2,
   "metadata": {},
   "outputs": [
    {
     "name": "stdout",
     "output_type": "stream",
     "text": [
      "Files already downloaded and verified\n",
      "Files already downloaded and verified\n",
      "(30000, 32, 32, 3) (30000, 1)\n",
      "(30000, 32, 32, 3) (30000, 1)\n",
      "torch.Size([128, 3, 32, 32]) torch.Size([128, 1])\n",
      "Files already downloaded and verified\n",
      "Files already downloaded and verified\n",
      "(30000, 32, 32, 3) (30000, 1)\n",
      "(30000, 32, 32, 3) (30000, 1)\n",
      "torch.Size([128, 3, 32, 32]) torch.Size([128, 1])\n",
      "Files already downloaded and verified\n",
      "Files already downloaded and verified\n",
      "(6500, 96, 96, 3) (6500, 1)\n",
      "(6500, 96, 96, 3) (6500, 1)\n",
      "torch.Size([32, 3, 32, 32]) torch.Size([32, 1])\n",
      "(55000, 64, 64, 3) (55000, 1)\n",
      "(55000, 64, 64, 3) (55000, 1)\n",
      "torch.Size([128, 3, 32, 32]) torch.Size([128, 1])\n"
     ]
    }
   ],
   "source": [
    "from data import *\n",
    "dc = LoadDataset(\"cifar10\")\n",
    "tl, tsl = dc.get_dataset()\n",
    "print(list(tl)[0][0].shape, list(tl)[0][1].shape)\n",
    "dc = LoadDataset(\"cifar100\")\n",
    "tl, tsl = dc.get_dataset()\n",
    "print(list(tl)[0][0].shape, list(tl)[0][1].shape)\n",
    "dc = LoadDataset(\"stl10\")\n",
    "tl, tsl = dc.get_dataset()\n",
    "print(list(tl)[0][0].shape, list(tl)[0][1].shape)\n",
    "dc = LoadDataset(\"tinyimagenet\")\n",
    "tl, tsl = dc.get_dataset()\n",
    "print(list(tl)[0][0].shape, list(tl)[0][1].shape)"
   ]
  },
  {
   "cell_type": "code",
   "execution_count": 3,
   "metadata": {},
   "outputs": [],
   "source": [
    "train, test = tinyimagenet(\"./data\")"
   ]
  },
  {
   "cell_type": "code",
   "execution_count": 4,
   "metadata": {},
   "outputs": [
    {
     "data": {
      "text/plain": [
       "(100000, 64, 64, 3)"
      ]
     },
     "execution_count": 4,
     "metadata": {},
     "output_type": "execute_result"
    }
   ],
   "source": [
    "train[0].shape"
   ]
  },
  {
   "cell_type": "code",
   "execution_count": 5,
   "metadata": {},
   "outputs": [
    {
     "data": {
      "text/plain": [
       "(100000, 1)"
      ]
     },
     "execution_count": 5,
     "metadata": {},
     "output_type": "execute_result"
    }
   ],
   "source": [
    "train[1].shape"
   ]
  },
  {
   "cell_type": "code",
   "execution_count": 6,
   "metadata": {},
   "outputs": [
    {
     "data": {
      "text/plain": [
       "(10000, 64, 64, 3)"
      ]
     },
     "execution_count": 6,
     "metadata": {},
     "output_type": "execute_result"
    }
   ],
   "source": [
    "test[0].shape"
   ]
  },
  {
   "cell_type": "code",
   "execution_count": 7,
   "metadata": {},
   "outputs": [
    {
     "data": {
      "text/plain": [
       "(10000, 1)"
      ]
     },
     "execution_count": 7,
     "metadata": {},
     "output_type": "execute_result"
    }
   ],
   "source": [
    "test[1].shape"
   ]
  },
  {
   "cell_type": "code",
   "execution_count": 9,
   "metadata": {},
   "outputs": [
    {
     "data": {
      "text/plain": [
       "(110000, 64, 64, 3)"
      ]
     },
     "execution_count": 9,
     "metadata": {},
     "output_type": "execute_result"
    }
   ],
   "source": [
    "np.concatenate([test[0], train[0]]).shape"
   ]
  },
  {
   "cell_type": "code",
   "execution_count": null,
   "metadata": {},
   "outputs": [
    {
     "ename": "TypeError",
     "evalue": "unsupported operand type(s) for +: 'generator' and 'generator'",
     "output_type": "error",
     "traceback": [
      "\u001b[0;31m---------------------------------------------------------------------------\u001b[0m",
      "\u001b[0;31mTypeError\u001b[0m                                 Traceback (most recent call last)",
      "Cell \u001b[0;32mIn[4], line 5\u001b[0m\n\u001b[1;32m      3\u001b[0m b \u001b[38;5;241m=\u001b[39m Linear(\u001b[38;5;241m10\u001b[39m, \u001b[38;5;241m10\u001b[39m)\n\u001b[1;32m      4\u001b[0m \u001b[38;5;28;01mfrom\u001b[39;00m \u001b[38;5;21;01mtorch\u001b[39;00m\u001b[38;5;21;01m.\u001b[39;00m\u001b[38;5;21;01moptim\u001b[39;00m \u001b[38;5;28;01mimport\u001b[39;00m Adam\n\u001b[0;32m----> 5\u001b[0m opt \u001b[38;5;241m=\u001b[39m Adam(\u001b[43ma\u001b[49m\u001b[38;5;241;43m.\u001b[39;49m\u001b[43mparameters\u001b[49m\u001b[43m(\u001b[49m\u001b[43m)\u001b[49m\u001b[38;5;241;43m+\u001b[39;49m\u001b[43mb\u001b[49m\u001b[38;5;241;43m.\u001b[39;49m\u001b[43mparameters\u001b[49m\u001b[43m(\u001b[49m\u001b[43m)\u001b[49m)\n",
      "\u001b[0;31mTypeError\u001b[0m: unsupported operand type(s) for +: 'generator' and 'generator'"
     ]
    }
   ],
   "source": [
    "from torch.nn import Linear\n",
    "a = Linear(10, 10)\n",
    "b = Linear(10, 10)\n",
    "from torch.optim import Adam\n",
    "opt = Adam(a.parameters()b.parameters())"
   ]
  },
  {
   "cell_type": "code",
   "execution_count": null,
   "metadata": {},
   "outputs": [],
   "source": [
    "# optimize both a and b with a single optimizer\n"
   ]
  },
  {
   "cell_type": "code",
   "execution_count": null,
   "metadata": {},
   "outputs": [],
   "source": []
  }
 ],
 "metadata": {
  "kernelspec": {
   "display_name": "sf",
   "language": "python",
   "name": "python3"
  },
  "language_info": {
   "codemirror_mode": {
    "name": "ipython",
    "version": 3
   },
   "file_extension": ".py",
   "mimetype": "text/x-python",
   "name": "python",
   "nbconvert_exporter": "python",
   "pygments_lexer": "ipython3",
   "version": "3.10.15"
  }
 },
 "nbformat": 4,
 "nbformat_minor": 2
}
